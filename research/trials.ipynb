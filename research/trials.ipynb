{
 "cells": [
  {
   "cell_type": "code",
   "execution_count": 3,
   "metadata": {},
   "outputs": [],
   "source": [
    "import gdown\n",
    "import os"
   ]
  },
  {
   "cell_type": "code",
   "execution_count": 4,
   "metadata": {},
   "outputs": [
    {
     "data": {
      "text/plain": [
       "'d:\\\\ProjectsAI\\\\Cell-Segment\\\\research'"
      ]
     },
     "execution_count": 4,
     "metadata": {},
     "output_type": "execute_result"
    }
   ],
   "source": [
    "%pwd"
   ]
  },
  {
   "cell_type": "code",
   "execution_count": 5,
   "metadata": {},
   "outputs": [],
   "source": [
    "os.chdir(\"../\")"
   ]
  },
  {
   "cell_type": "code",
   "execution_count": 6,
   "metadata": {},
   "outputs": [
    {
     "data": {
      "text/plain": [
       "'d:\\\\ProjectsAI\\\\Cell-Segment'"
      ]
     },
     "execution_count": 6,
     "metadata": {},
     "output_type": "execute_result"
    }
   ],
   "source": [
    "%pwd"
   ]
  },
  {
   "cell_type": "code",
   "execution_count": 24,
   "metadata": {},
   "outputs": [],
   "source": [
    "url=\"https://drive.google.com/drive/folders/11np18HIU4iG78yhhXA4wAjfdPXcZ8dOg?usp=sharing\""
   ]
  },
  {
   "cell_type": "code",
   "execution_count": 26,
   "metadata": {},
   "outputs": [
    {
     "data": {
      "text/plain": [
       "'11np18HIU4iG78yhhXA4wAjfdPXcZ8dOg'"
      ]
     },
     "execution_count": 26,
     "metadata": {},
     "output_type": "execute_result"
    }
   ],
   "source": [
    "file_id=url.split(\"/\")\n",
    "id=file_id[-1].split(\"?\")[0]\n",
    "id"
   ]
  },
  {
   "cell_type": "code",
   "execution_count": 29,
   "metadata": {},
   "outputs": [
    {
     "name": "stderr",
     "output_type": "stream",
     "text": [
      "Retrieving folder contents\n"
     ]
    },
    {
     "name": "stdout",
     "output_type": "stream",
     "text": [
      "Processing file 1BSYBZDWAVAAIxk-V9joIi6-h7GTY9Shs data.yaml\n",
      "Retrieving folder 1JasgR6_4XpKS5Ch7ndzUPXLUMNrPqkuh test\n",
      "Retrieving folder 1u10sk7dbO0ab05r116QYNFbQZd7_IwBQ images\n",
      "Processing file 1ruwHrCksgTHifwcT0a0uneBWa-HJywtK image011_png.rf.59c7ac5b2eb32374e0040bbf3bf97e0d.jpg\n",
      "Processing file 1d233bL6RtBjJrSOQgaXLMJIdFusk2u4T image022_png.rf.570dd7db15bcd03426c54ec2ff6c7cdf.jpg\n",
      "Processing file 1yFux7xlejJ_FTalk8ZkLAUOVikNEYcKk image034_png.rf.53478250a96ba684d5ee44556c62d552.jpg\n",
      "Processing file 1uhSvVqZP6UzoWKWHYPhhWlmA9Mhu9X8a image041_jpg.rf.776f8f73a283e40e8fea132653096480.jpg\n",
      "Processing file 1k8UXwhZao9IP66hYseE2B6LSDr0WRb8G image045_png.rf.473a1aad432fab5ad0647ff9fd31a34d.jpg\n",
      "Processing file 16ssqX5hBvBJVU9nJ6vxacs5cIfhTQxnQ image047_png.rf.6e11cc17ef00d5ab571f4554bee0ea15.jpg\n",
      "Processing file 1enGK81hcqQ_l8aOSpEo9WL3XC7psIqYK image079_png.rf.b51f835cb72b4e958a64102508bed565.jpg\n",
      "Processing file 1JrQkj4s1ZmS-yJ98zLZtSX1bXY989Rlm image080_png.rf.53a8faa5daf42bfc7888bc680a991ad8.jpg\n",
      "Retrieving folder 1vn4f6hL9w08ILTTEp0je15muCilfcvRI labels\n",
      "Processing file 1uhaOMEu4MVHI_5jCDiL1t_8ymXyBvxQV image011_png.rf.59c7ac5b2eb32374e0040bbf3bf97e0d.txt\n",
      "Processing file 1tGtJiZq6GagJFTq8TeE-VdDwy7S884WD image022_png.rf.570dd7db15bcd03426c54ec2ff6c7cdf.txt\n",
      "Processing file 1bG3UeM7ufU8mu9S0twAwTpXlIhtSCpEz image034_png.rf.53478250a96ba684d5ee44556c62d552.txt\n",
      "Processing file 1ao1CRGPwOAMcyfWNaYxZOPMvmCXXkmUD image041_jpg.rf.776f8f73a283e40e8fea132653096480.txt\n",
      "Processing file 1LCtGle9F78Ihc_UUmPI94AMv5tpDTvFN image045_png.rf.473a1aad432fab5ad0647ff9fd31a34d.txt\n",
      "Processing file 1iLEQvXYgr5xU9NIHZ_4pwxpDbTIxLlWp image047_png.rf.6e11cc17ef00d5ab571f4554bee0ea15.txt\n",
      "Processing file 11QL0fZlOxc4AzLJncQCZSqX1YGxze_Df image079_png.rf.b51f835cb72b4e958a64102508bed565.txt\n",
      "Processing file 14Zc1H0nItzfRHQzAZUf_tDI9eBHySTyR image080_png.rf.53a8faa5daf42bfc7888bc680a991ad8.txt\n",
      "Retrieving folder 1v6nyod4mlNvKjjUPi5-WCA9Z8tTw2jMH train\n",
      "Retrieving folder 1h4kAhEV2PlvDyAhF91HPuZHPZselVm1q images\n",
      "Processing file 1cRvdgBZtG95w4DkP71nujmpw_EGD0LLo image001_jpg.rf.9c2afbf91e6f6453dd8d879c36710593.jpg\n",
      "Processing file 1CtHJgEaJaOWNTI2pEK7Oq50J_bHfoUHX image001_jpg.rf.30cc8a6f0341e5e2246f42ab87cdddeb.jpg\n",
      "Processing file 1AvSEwQTeHvPtux05jLnDsgkah_dCzmtE image001_jpg.rf.b8aef5e6a3a2799559e56b9f1ad4361d.jpg\n",
      "Processing file 1-htuVtxjI0LeCrGfBecpqHy1YvQ5R6Ae image002_jpg.rf.1ee27e6f85a67ed53d31d3850e07ddf8.jpg\n",
      "Processing file 13tI5YdWSeP14xm4DBCSD3WJGP9-8_3zI image002_jpg.rf.49105df4a432ac3f65593baf5b68f41d.jpg\n",
      "Processing file 1egDKbkZatDgYJ03gJ2kONRI1NojEZRg8 image002_jpg.rf.68687f327ef2eaec108ae8d0d28d0f70.jpg\n",
      "Processing file 1Svh4xoCEUXVsTYNe12ZoSrcm0SzoX0BY image003_jpg.rf.8ef31f053787018f33683ef58762ba5b.jpg\n",
      "Processing file 1KIDa7YILc-MNr8SuoRzftFdTkueQGSuo image003_jpg.rf.64ad2dd4306ed13c4ac47ce3f9e2b92d.jpg\n",
      "Processing file 1OlLzamxuCc9XLt-t__q0d0FyitViYOpL image003_jpg.rf.99a80b15c3d07633ad837af48a0a524e.jpg\n",
      "Processing file 1nWckFv0qmUqRQUzMw0buHBpfWyAtKR07 image004_jpg.rf.b02f1f2e7c92c018aaf1be62e202dd11.jpg\n",
      "Processing file 113pt_qjHZIfORDuUaLff9MyOcwoLqnkD image004_jpg.rf.d3c98c30fbec35c50f39bcbf9325b402.jpg\n",
      "Processing file 1ePqUTc4fquW7UZJrwkfd-H05jE-MqH2E image006_jpg.rf.b9e3b4c10b02f525de1b703236a4a008.jpg\n",
      "Processing file 1RRoiICBWo-0oYpD1-YDSi5mAP3LQPFSl image006_jpg.rf.dca3412527cae66d1a0b270a3dd14932.jpg\n",
      "Processing file 131pFHX3VIQQyMG4ZsjcbywjtQscWmZey image006_jpg.rf.f45f15b64da4f37f4e2613c60f4faa4f.jpg\n",
      "Processing file 1MhnvE8TtRZCtud2RU4ERzE2iDg1zZahB image007_jpg.rf.5e86e3bf84591851ace6798024262bd5.jpg\n",
      "Processing file 1Ae_j2sPMS33Ws2Zwi57G1b_Tu5f_rfl7 image007_jpg.rf.bcf5bff8116fcffccbbe7807f12bfe2f.jpg\n",
      "Processing file 1ZMIxOoe0bGKCPZzjWaFHKbN3MaUsfdmB image007_jpg.rf.d4d7324848452ff21153deb34b767351.jpg\n",
      "Processing file 1sbN0m8Wj1UbNQa0Y54Z65yzJWXnov8f2 image008_jpg.rf.1b1f0cec3dbc0c8a62ce6adb7bda64a0.jpg\n",
      "Processing file 1arzV_YQmB1YsTGGY9rzG7EuoAqKCEzJR image008_jpg.rf.7f0f96b30e2971bf567e18727b6904f4.jpg\n",
      "Processing file 1EbkTfgfjLealjUl_tKWvMZAZo9Bz0sfl image008_jpg.rf.f6c4561f1f3bafc1795900c5493a422e.jpg\n",
      "Processing file 1vGeBE24cpXXN--Rv0lr_A9XVxy8WG1Vi image009_png.rf.4a0760bcc834a6e230015f402e580f18.jpg\n",
      "Processing file 1OKN8VF5zXFAJA0h41xPpiRKX1pi8_5JC image009_png.rf.7473d0ec35bcf5de8909c41686712080.jpg\n",
      "Processing file 1RPIHHejgP22GXqHgnk0Aqb0HZPaRNzx1 image009_png.rf.58614504e5cf561e9c6fb1f129184291.jpg\n",
      "Processing file 1nWHt3x8Bmz3CdySK1zXTfJv5h8rUyoO2 image010_png.rf.3b422a339e54dd92b18d544761d48b0d.jpg\n",
      "Processing file 1lxjH77pOBY3Ky-GRKjRzh6Nvc3lr-EiW image010_png.rf.c46b1169c536e676e19909e2f40c50f8.jpg\n",
      "Processing file 1wv5LQT-cLqmQwWR1BzBbG8p_aKZid0Ng image010_png.rf.f3b3b5519d3c659403ec83acb68deb1f.jpg\n",
      "Processing file 1-wnTPFnstFAnkGa2k1SxmyJs44v1DT_b image013_png.rf.88a0a6b75da89ee9b290e6edcfa69c24.jpg\n",
      "Processing file 1jDkbOI3wcdOBO3KFLiCjEeUnK0E1yDsM image013_png.rf.440a8e67b09d16fe70c8205d4f48b451.jpg\n",
      "Processing file 1SVTOry3MVOYNTDN24tJ8BsHB3J746Mz0 image013_png.rf.fff8e4dd210d84c41636595e5acbc2c9.jpg\n",
      "Processing file 1sRHVpgx_CYzqgkYJUiwUvthi9KZOQXxK image015_png.rf.4ba19f7f8fe9d24e5d143b01667aeffc.jpg\n",
      "Processing file 1rISG7swcSoYBIYrMAVVoeTdb2U7dk3eW image015_png.rf.95cfc1c703a5329e8013f1ea50a18639.jpg\n",
      "Processing file 1YHwF960yi63wvQ_knJ1TycMFLucVbrtC image015_png.rf.d6f0c7a6c6dbaba5601090026d21fabf.jpg\n",
      "Processing file 1e3IDowiXeYShm2g9fCrHA5Yvnk_2rjv- image017_png.rf.37a28e9f5cf221d33e5baa5928833a1e.jpg\n",
      "Processing file 1g1AhfugBLYAGVoIp0V6UpleD2oMbusqB image017_png.rf.234dd83e51767a2486ce19399e44a15f.jpg\n",
      "Processing file 1DoNManBQJc1FhqZL9iW-d6WOjqgPxt5I image017_png.rf.d7b84e0afff969e5c123ff875e24b462.jpg\n",
      "Processing file 1FJEnsqKY-Giw3tmO0l3XV47AMFpp2U9B image018_png.rf.03b846aae31d5178afe00d5477ce8fd9.jpg\n",
      "Processing file 1exKtrwxr9OcQWyf50rpQUPbWm5-e1XR9 image018_png.rf.84c04e00adb40bf1c863784f761978c3.jpg\n",
      "Processing file 15d3m9K6E31qJIxBFuioAFV93RsJ-7Cjt image018_png.rf.373d2bcc3cbeafcb9f05fc2664e53137.jpg\n",
      "Processing file 1zrUzXjpkMwhcYKE6bnPrSD5mVWNhNC_h image019_png.rf.0f6c14a050565b0f291e7f029d4adad4.jpg\n",
      "Processing file 14GJxLxL-QR3zS7dAvvIsDiq-DVdW_cT2 image019_png.rf.bebc7b7e1b1d89ec034ef472276afed3.jpg\n",
      "Processing file 1dc_ugMUyHls2a6AkYWfWk-J05jtOLkSe image019_png.rf.eb3c84e78b94c6f690228bc9452a7311.jpg\n",
      "Processing file 1-_FSR716E4fcqLj1zSU4fu1R-ehUvLF0 image020_png.rf.2aa967040325721dcc7f9bf6d5fb5ef4.jpg\n",
      "Processing file 1VLA86Z28gs1z788mcQ1LCOUaP67ZTVv1 image020_png.rf.4d653f77203f88aef82d475d55b466cc.jpg\n",
      "Processing file 1_95DarRGTgSTMt0dywGoB66iVOLnw4kR image020_png.rf.465e05fd05b4308f2db3a427bf00db44.jpg\n",
      "Processing file 1y3LFk66M8NUEeihRvKbqq1TVbGuubuoa image021_png.rf.1bb4bf0020a76b33fd2cca3f61820653.jpg\n",
      "Processing file 1TVk1EsMFEFlGgv_6uQAa0XFM4gBx5Udx image021_png.rf.3b9911485d6293c91842c44ce4b2c197.jpg\n",
      "Processing file 1GD_cQJ-PJ_BAy4sUMTs5bue_NoR138nv image021_png.rf.5e10dce40e45611b94132649527faf02.jpg\n",
      "Processing file 17b8ZXxoOLobyGpAgNofhJr3WkMAo7O9A image024_png.rf.712ec33e609ee132fee7e35ba4024ced.jpg\n",
      "Processing file 1DvYiMf3wIz45knvxI-1VEG8ni0lTJBwZ image024_png.rf.609656c6047596e61acc9e37f63ad4b3.jpg\n",
      "Processing file 1pg4B_yJxBz1P70khP6WpNQ-iOxilSDkm image024_png.rf.e0cc28e4415f11fb054fd12d69ee607b.jpg\n"
     ]
    },
    {
     "ename": "FolderContentsMaximumLimitError",
     "evalue": "The gdrive folder with url: https://drive.google.com/drive/folders/1h4kAhEV2PlvDyAhF91HPuZHPZselVm1q?hl=en has more than 50 files, gdrive can't download more than this limit.",
     "output_type": "error",
     "traceback": [
      "\u001b[1;31m---------------------------------------------------------------------------\u001b[0m",
      "\u001b[1;31mFolderContentsMaximumLimitError\u001b[0m           Traceback (most recent call last)",
      "Cell \u001b[1;32mIn[29], line 1\u001b[0m\n\u001b[1;32m----> 1\u001b[0m \u001b[43mgdown\u001b[49m\u001b[38;5;241;43m.\u001b[39;49m\u001b[43mdownload_folder\u001b[49m\u001b[43m(\u001b[49m\u001b[38;5;28;43mid\u001b[39;49m\u001b[38;5;241;43m=\u001b[39;49m\u001b[38;5;28;43mid\u001b[39;49m\u001b[43m)\u001b[49m\n",
      "File \u001b[1;32md:\\Anaconda3\\envs\\cellseg\\lib\\site-packages\\gdown\\download_folder.py:269\u001b[0m, in \u001b[0;36mdownload_folder\u001b[1;34m(url, id, output, quiet, proxy, speed, use_cookies, remaining_ok, verify, user_agent, skip_download)\u001b[0m\n\u001b[0;32m    267\u001b[0m \u001b[38;5;28;01mif\u001b[39;00m \u001b[38;5;129;01mnot\u001b[39;00m quiet:\n\u001b[0;32m    268\u001b[0m     \u001b[38;5;28mprint\u001b[39m(\u001b[38;5;124m\"\u001b[39m\u001b[38;5;124mRetrieving folder contents\u001b[39m\u001b[38;5;124m\"\u001b[39m, file\u001b[38;5;241m=\u001b[39msys\u001b[38;5;241m.\u001b[39mstderr)\n\u001b[1;32m--> 269\u001b[0m is_success, gdrive_file \u001b[38;5;241m=\u001b[39m \u001b[43m_download_and_parse_google_drive_link\u001b[49m\u001b[43m(\u001b[49m\n\u001b[0;32m    270\u001b[0m \u001b[43m    \u001b[49m\u001b[43msess\u001b[49m\u001b[43m,\u001b[49m\n\u001b[0;32m    271\u001b[0m \u001b[43m    \u001b[49m\u001b[43murl\u001b[49m\u001b[43m,\u001b[49m\n\u001b[0;32m    272\u001b[0m \u001b[43m    \u001b[49m\u001b[43mquiet\u001b[49m\u001b[38;5;241;43m=\u001b[39;49m\u001b[43mquiet\u001b[49m\u001b[43m,\u001b[49m\n\u001b[0;32m    273\u001b[0m \u001b[43m    \u001b[49m\u001b[43mremaining_ok\u001b[49m\u001b[38;5;241;43m=\u001b[39;49m\u001b[43mremaining_ok\u001b[49m\u001b[43m,\u001b[49m\n\u001b[0;32m    274\u001b[0m \u001b[43m    \u001b[49m\u001b[43mverify\u001b[49m\u001b[38;5;241;43m=\u001b[39;49m\u001b[43mverify\u001b[49m\u001b[43m,\u001b[49m\n\u001b[0;32m    275\u001b[0m \u001b[43m\u001b[49m\u001b[43m)\u001b[49m\n\u001b[0;32m    276\u001b[0m \u001b[38;5;28;01mif\u001b[39;00m \u001b[38;5;129;01mnot\u001b[39;00m is_success:\n\u001b[0;32m    277\u001b[0m     \u001b[38;5;28mprint\u001b[39m(\u001b[38;5;124m\"\u001b[39m\u001b[38;5;124mFailed to retrieve folder contents\u001b[39m\u001b[38;5;124m\"\u001b[39m, file\u001b[38;5;241m=\u001b[39msys\u001b[38;5;241m.\u001b[39mstderr)\n",
      "File \u001b[1;32md:\\Anaconda3\\envs\\cellseg\\lib\\site-packages\\gdown\\download_folder.py:158\u001b[0m, in \u001b[0;36m_download_and_parse_google_drive_link\u001b[1;34m(sess, url, quiet, remaining_ok, verify)\u001b[0m\n\u001b[0;32m    152\u001b[0m \u001b[38;5;28;01mif\u001b[39;00m \u001b[38;5;129;01mnot\u001b[39;00m quiet:\n\u001b[0;32m    153\u001b[0m     \u001b[38;5;28mprint\u001b[39m(\n\u001b[0;32m    154\u001b[0m         \u001b[38;5;124m\"\u001b[39m\u001b[38;5;124mRetrieving folder\u001b[39m\u001b[38;5;124m\"\u001b[39m,\n\u001b[0;32m    155\u001b[0m         child_id,\n\u001b[0;32m    156\u001b[0m         child_name,\n\u001b[0;32m    157\u001b[0m     )\n\u001b[1;32m--> 158\u001b[0m return_code, child \u001b[38;5;241m=\u001b[39m \u001b[43m_download_and_parse_google_drive_link\u001b[49m\u001b[43m(\u001b[49m\n\u001b[0;32m    159\u001b[0m \u001b[43m    \u001b[49m\u001b[43msess\u001b[49m\u001b[38;5;241;43m=\u001b[39;49m\u001b[43msess\u001b[49m\u001b[43m,\u001b[49m\n\u001b[0;32m    160\u001b[0m \u001b[43m    \u001b[49m\u001b[43murl\u001b[49m\u001b[38;5;241;43m=\u001b[39;49m\u001b[38;5;124;43m\"\u001b[39;49m\u001b[38;5;124;43mhttps://drive.google.com/drive/folders/\u001b[39;49m\u001b[38;5;124;43m\"\u001b[39;49m\u001b[43m \u001b[49m\u001b[38;5;241;43m+\u001b[39;49m\u001b[43m \u001b[49m\u001b[43mchild_id\u001b[49m\u001b[43m,\u001b[49m\n\u001b[0;32m    161\u001b[0m \u001b[43m    \u001b[49m\u001b[43mquiet\u001b[49m\u001b[38;5;241;43m=\u001b[39;49m\u001b[43mquiet\u001b[49m\u001b[43m,\u001b[49m\n\u001b[0;32m    162\u001b[0m \u001b[43m    \u001b[49m\u001b[43mremaining_ok\u001b[49m\u001b[38;5;241;43m=\u001b[39;49m\u001b[43mremaining_ok\u001b[49m\u001b[43m,\u001b[49m\n\u001b[0;32m    163\u001b[0m \u001b[43m\u001b[49m\u001b[43m)\u001b[49m\n\u001b[0;32m    164\u001b[0m \u001b[38;5;28;01mif\u001b[39;00m \u001b[38;5;129;01mnot\u001b[39;00m return_code:\n\u001b[0;32m    165\u001b[0m     \u001b[38;5;28;01mreturn\u001b[39;00m return_code, \u001b[38;5;28;01mNone\u001b[39;00m\n",
      "File \u001b[1;32md:\\Anaconda3\\envs\\cellseg\\lib\\site-packages\\gdown\\download_folder.py:158\u001b[0m, in \u001b[0;36m_download_and_parse_google_drive_link\u001b[1;34m(sess, url, quiet, remaining_ok, verify)\u001b[0m\n\u001b[0;32m    152\u001b[0m \u001b[38;5;28;01mif\u001b[39;00m \u001b[38;5;129;01mnot\u001b[39;00m quiet:\n\u001b[0;32m    153\u001b[0m     \u001b[38;5;28mprint\u001b[39m(\n\u001b[0;32m    154\u001b[0m         \u001b[38;5;124m\"\u001b[39m\u001b[38;5;124mRetrieving folder\u001b[39m\u001b[38;5;124m\"\u001b[39m,\n\u001b[0;32m    155\u001b[0m         child_id,\n\u001b[0;32m    156\u001b[0m         child_name,\n\u001b[0;32m    157\u001b[0m     )\n\u001b[1;32m--> 158\u001b[0m return_code, child \u001b[38;5;241m=\u001b[39m \u001b[43m_download_and_parse_google_drive_link\u001b[49m\u001b[43m(\u001b[49m\n\u001b[0;32m    159\u001b[0m \u001b[43m    \u001b[49m\u001b[43msess\u001b[49m\u001b[38;5;241;43m=\u001b[39;49m\u001b[43msess\u001b[49m\u001b[43m,\u001b[49m\n\u001b[0;32m    160\u001b[0m \u001b[43m    \u001b[49m\u001b[43murl\u001b[49m\u001b[38;5;241;43m=\u001b[39;49m\u001b[38;5;124;43m\"\u001b[39;49m\u001b[38;5;124;43mhttps://drive.google.com/drive/folders/\u001b[39;49m\u001b[38;5;124;43m\"\u001b[39;49m\u001b[43m \u001b[49m\u001b[38;5;241;43m+\u001b[39;49m\u001b[43m \u001b[49m\u001b[43mchild_id\u001b[49m\u001b[43m,\u001b[49m\n\u001b[0;32m    161\u001b[0m \u001b[43m    \u001b[49m\u001b[43mquiet\u001b[49m\u001b[38;5;241;43m=\u001b[39;49m\u001b[43mquiet\u001b[49m\u001b[43m,\u001b[49m\n\u001b[0;32m    162\u001b[0m \u001b[43m    \u001b[49m\u001b[43mremaining_ok\u001b[49m\u001b[38;5;241;43m=\u001b[39;49m\u001b[43mremaining_ok\u001b[49m\u001b[43m,\u001b[49m\n\u001b[0;32m    163\u001b[0m \u001b[43m\u001b[49m\u001b[43m)\u001b[49m\n\u001b[0;32m    164\u001b[0m \u001b[38;5;28;01mif\u001b[39;00m \u001b[38;5;129;01mnot\u001b[39;00m return_code:\n\u001b[0;32m    165\u001b[0m     \u001b[38;5;28;01mreturn\u001b[39;00m return_code, \u001b[38;5;28;01mNone\u001b[39;00m\n",
      "File \u001b[1;32md:\\Anaconda3\\envs\\cellseg\\lib\\site-packages\\gdown\\download_folder.py:176\u001b[0m, in \u001b[0;36m_download_and_parse_google_drive_link\u001b[1;34m(sess, url, quiet, remaining_ok, verify)\u001b[0m\n\u001b[0;32m    168\u001b[0m \u001b[38;5;28;01mif\u001b[39;00m \u001b[38;5;129;01mnot\u001b[39;00m remaining_ok \u001b[38;5;129;01mand\u001b[39;00m has_at_least_max_files:\n\u001b[0;32m    169\u001b[0m     message \u001b[38;5;241m=\u001b[39m \u001b[38;5;124m\"\u001b[39m\u001b[38;5;124m \u001b[39m\u001b[38;5;124m\"\u001b[39m\u001b[38;5;241m.\u001b[39mjoin(\n\u001b[0;32m    170\u001b[0m         [\n\u001b[0;32m    171\u001b[0m             \u001b[38;5;124m\"\u001b[39m\u001b[38;5;124mThe gdrive folder with url: \u001b[39m\u001b[38;5;132;01m{url}\u001b[39;00m\u001b[38;5;124m\"\u001b[39m\u001b[38;5;241m.\u001b[39mformat(url\u001b[38;5;241m=\u001b[39murl),\n\u001b[1;32m   (...)\u001b[0m\n\u001b[0;32m    174\u001b[0m         ]\n\u001b[0;32m    175\u001b[0m     )\n\u001b[1;32m--> 176\u001b[0m     \u001b[38;5;28;01mraise\u001b[39;00m FolderContentsMaximumLimitError(message)\n\u001b[0;32m    177\u001b[0m \u001b[38;5;28;01mreturn\u001b[39;00m return_code, gdrive_file\n",
      "\u001b[1;31mFolderContentsMaximumLimitError\u001b[0m: The gdrive folder with url: https://drive.google.com/drive/folders/1h4kAhEV2PlvDyAhF91HPuZHPZselVm1q?hl=en has more than 50 files, gdrive can't download more than this limit."
     ]
    }
   ],
   "source": [
    "gdown.download_folder(id=id)"
   ]
  }
 ],
 "metadata": {
  "kernelspec": {
   "display_name": "cellseg",
   "language": "python",
   "name": "python3"
  },
  "language_info": {
   "codemirror_mode": {
    "name": "ipython",
    "version": 3
   },
   "file_extension": ".py",
   "mimetype": "text/x-python",
   "name": "python",
   "nbconvert_exporter": "python",
   "pygments_lexer": "ipython3",
   "version": "3.8.18"
  }
 },
 "nbformat": 4,
 "nbformat_minor": 2
}
